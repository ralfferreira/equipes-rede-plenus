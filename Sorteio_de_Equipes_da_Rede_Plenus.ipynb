{
  "nbformat": 4,
  "nbformat_minor": 0,
  "metadata": {
    "colab": {
      "provenance": []
    },
    "kernelspec": {
      "name": "python3",
      "display_name": "Python 3"
    },
    "language_info": {
      "name": "python"
    }
  },
  "cells": [
    {
      "cell_type": "code",
      "execution_count": null,
      "metadata": {
        "id": "AFDOX_SoawRo"
      },
      "outputs": [],
      "source": [
        "!pip install py3-validate-email\n",
        "!pip install py3dns"
      ]
    },
    {
      "cell_type": "code",
      "source": [
        "import gspread\n",
        "import random\n",
        "import math\n",
        "import smtplib\n",
        "import numpy as np\n",
        "import pandas as pd\n",
        "from collections import defaultdict\n",
        "from google.colab import auth\n",
        "from oauth2client.service_account import ServiceAccountCredentials\n",
        "from gspread.exceptions import APIError\n",
        "from gspread.models import Spreadsheet\n",
        "from google.auth import default\n",
        "from email.mime.text import MIMEText\n",
        "from email.mime.multipart import MIMEMultipart"
      ],
      "metadata": {
        "id": "HnE73ZqZaxii"
      },
      "execution_count": 2,
      "outputs": []
    },
    {
      "cell_type": "code",
      "source": [
        "# Autenticação com a API do Google\n",
        "auth.authenticate_user()\n",
        "scope = [\"https://spreadsheets.google.com/feeds\", \"https://www.googleapis.com/auth/drive\"]\n",
        "creds, _ = default()\n",
        "client = gspread.authorize(creds)"
      ],
      "metadata": {
        "id": "TGTpmzn-ay45"
      },
      "execution_count": 3,
      "outputs": []
    },
    {
      "cell_type": "code",
      "source": [
        "# Obtenção da planilha com as respostas\n",
        "sheet = client.open('Cópia Teste (respostas)').sheet1\n",
        "\n",
        "# Obtenção dos nomes dos participantes\n",
        "participantes = [{'Nome': r['Nome Completo'], 'Email': r['E-mail'], 'Telefone': r['Telefone'], 'Grupo': r['Grupo']} for r in sheet.get_all_records()]"
      ],
      "metadata": {
        "id": "vGKPbSg7az76"
      },
      "execution_count": 4,
      "outputs": []
    },
    {
      "cell_type": "code",
      "source": [
        "nomes_predefinidos = [\n",
        "    {'Nome': 'Naara', 'Email': 'naaraveira@gmail.com', 'Telefone': '', 'Grupo': 'Azul'},\n",
        "    {'Nome': 'Pedro', 'Email': 'pedropaulocavalcanten@gmail.com', 'Telefone': '', 'Grupo': 'Azul'},\n",
        "    {'Nome': 'Gyo', 'Email': 'gyovannamenezes@hotmail.com', 'Telefone': '', 'Grupo': 'Azul'},\n",
        "    {'Nome': 'Ibsa', 'Email': 'ibsatauanecn@gmail.com', 'Telefone': '', 'Grupo': 'Azul'},\n",
        "    {'Nome': 'Duda', 'Email': 'mariaeduarda.corcino1@gmail.com', 'Telefone': '', 'Grupo': 'Azul'},\n",
        "    {'Nome': 'Nathan', 'Email': 'nathanueslinathansouza@hotmail.com', 'Telefone': '', 'Grupo': 'Azul'},\n",
        "    {'Nome': 'Nataly', 'Email': 'nathalihelendesouza@gmail.com', 'Telefone': '', 'Grupo': 'Azul'},\n",
        "    {'Nome': 'Gustavo', 'Email': '', 'Telefone': '', 'Grupo': 'Azul'},\n",
        "    {'Nome': 'Peter', 'Email': 'jianpiter@gmail.com', 'Telefone': '', 'Grupo': 'Azul'},\n",
        "\n",
        "    {'Nome': 'Caio Castro', 'Email': 'caio_castro7@hotmail.com', 'Telefone': '', 'Grupo': 'Verde'},\n",
        "    {'Nome': 'Joel', 'Email': 'joelramosfilhor00@gmail.com', 'Telefone': '', 'Grupo': 'Verde'},\n",
        "    {'Nome': 'Raissa', 'Email': 'raissamaciels01@gmail.com', 'Telefone': '', 'Grupo': 'Verde'},\n",
        "    {'Nome': 'Davi', 'Email': 'djordao03@gmail.com', 'Telefone': '', 'Grupo': 'Verde'},\n",
        "    {'Nome': 'Duda', 'Email': 'eduardapessoa18@gmail.com', 'Telefone': '', 'Grupo': 'Verde'},\n",
        "    {'Nome': 'Emanuel', 'Email': 'emanuelfelipe.sfarias@gmail.com', 'Telefone': '', 'Grupo': 'Verde'},\n",
        "    {'Nome': 'Dayana', 'Email': 'dayanans@gmail.com', 'Telefone': '', 'Grupo': 'Verde'},\n",
        "\n",
        "    {'Nome': 'Rayandson', 'Email': '', 'Telefone': '', 'Grupo': 'Vermelho'},\n",
        "    {'Nome': 'Esposa de Rayandson', 'Email': '', 'Telefone': '', 'Grupo': 'Vermelho'},\n",
        "    {'Nome': 'Ruthyerre', 'Email': '', 'Telefone': '', 'Grupo': 'Vermelho'},\n",
        "    {'Nome': 'Valter', 'Email': '', 'Telefone': '', 'Grupo': 'Vermelho'},\n",
        "    {'Nome': 'Leticia', 'Email': '', 'Telefone': '', 'Grupo': 'Vermelho'},\n",
        "    {'Nome': 'Livia', 'Email': '', 'Telefone': '', 'Grupo': 'Vermelho'},\n",
        "    {'Nome': 'Raithyelle', 'Email': '', 'Telefone': '', 'Grupo': 'Vermelho'},\n",
        "    {'Nome': 'Caio', 'Email': '', 'Telefone': '', 'Grupo': 'Vermelho'},\n",
        "    {'Nome': 'Paulo', 'Email': '', 'Telefone': '', 'Grupo': 'Vermelho'},\n",
        "    {'Nome': 'Bruna', 'Email': '', 'Telefone': '', 'Grupo': 'Vermelho'},\n",
        "    {'Nome': 'Aninha', 'Email': '', 'Telefone': '', 'Grupo': 'Vermelho'},\n",
        "    {'Nome': 'Felipe', 'Email': '', 'Telefone': '', 'Grupo': 'Vermelho'},\n",
        "    {'Nome': 'Dona Ana', 'Email': '', 'Telefone': '', 'Grupo': 'Vermelho'},\n",
        "    {'Nome': 'Rayla', 'Email': '', 'Telefone': '', 'Grupo': 'Vermelho'},\n",
        "]"
      ],
      "metadata": {
        "id": "AcK4igG-a1Bx"
      },
      "execution_count": 5,
      "outputs": []
    },
    {
      "cell_type": "code",
      "source": [
        "# Separa os participantes predefinidos em seus respectivos grupos\n",
        "grupos = {grupo: [] for grupo in set(participante['Grupo'] for participante in nomes_predefinidos)}\n",
        "for participante in nomes_predefinidos:\n",
        "    grupos[participante['Grupo']].append(participante)"
      ],
      "metadata": {
        "id": "CC5T13kedQvR"
      },
      "execution_count": 6,
      "outputs": []
    },
    {
      "cell_type": "code",
      "source": [
        "# Calcula a quantidade de participantes que cada grupo já tem\n",
        "for grupo, participantes_grupo in grupos.items():\n",
        "    quantidade = len(participantes_grupo)\n",
        "    print(f'O grupo {grupo} já tem {quantidade} participante(s) predefinido(s).')"
      ],
      "metadata": {
        "colab": {
          "base_uri": "https://localhost:8080/"
        },
        "id": "Q0u2ZgJSdVXp",
        "outputId": "4a95873f-2719-47a9-e9f7-f6e74a350fdf"
      },
      "execution_count": 7,
      "outputs": [
        {
          "output_type": "stream",
          "name": "stdout",
          "text": [
            "O grupo Vermelho já tem 14 participante(s) predefinido(s).\n",
            "O grupo Azul já tem 9 participante(s) predefinido(s).\n",
            "O grupo Verde já tem 7 participante(s) predefinido(s).\n"
          ]
        }
      ]
    },
    {
      "cell_type": "code",
      "source": [
        "# Calcula o número total de participantes e a quantidade ideal de participantes por grupo\n",
        "quantidade_total = len(participantes)\n",
        "grupos_disponiveis = len(set(grupo for grupo in participante['Grupo'] for participante in participantes)) - len(grupos)\n",
        "quantidade_por_grupo = quantidade_total // grupos_disponiveis\n",
        "if quantidade_total % grupos_disponiveis != 0:\n",
        "    quantidade_por_grupo += 1"
      ],
      "metadata": {
        "id": "vYndpUgYdX-h"
      },
      "execution_count": 8,
      "outputs": []
    },
    {
      "cell_type": "code",
      "source": [
        "# Sorteia os participantes não predefinidos e os adiciona ao grupo com menos participantes\n",
        "participantes_nao_predefinidos = [participante for participante in participantes if participante not in nomes_predefinidos]\n",
        "random.shuffle(participantes_nao_predefinidos)\n",
        "\n",
        "for participante in participantes_nao_predefinidos:\n",
        "    grupo_menos_participantes = min(grupos, key=lambda grupo: len(grupos[grupo]))\n",
        "    grupos[grupo_menos_participantes].append(participante)\n",
        "    participante['Grupo'] = grupo_menos_participantes"
      ],
      "metadata": {
        "id": "el8mPHMGdbwZ"
      },
      "execution_count": 9,
      "outputs": []
    },
    {
      "cell_type": "code",
      "source": [
        "for grupo, participantes_grupo in grupos.items():\n",
        "    quantidade = len(participantes_grupo)\n",
        "    print('# Grupo ', grupo)\n",
        "    for participante in participantes_grupo:\n",
        "        print(participante['Nome'])\n",
        "    print()"
      ],
      "metadata": {
        "id": "7DNJzx-Oa7Qq"
      },
      "execution_count": null,
      "outputs": []
    },
    {
      "cell_type": "code",
      "source": [
        "resultado_sheet = client.create('Teste Gincana da Rede Plenus')\n",
        "\n",
        "# Adicionar o resultado do sorteio à nova planilha\n",
        "for i, (grupo, participantes_grupo) in enumerate(grupos.items()):\n",
        "    grupo_sheet = resultado_sheet.add_worksheet(title=grupo, rows=len(participantes_grupo)+1, cols=len(participantes_grupo[0])-1)\n",
        "    headers = list(participantes_grupo[0].keys())\n",
        "    headers.remove('Grupo')\n",
        "    print(f'Adicionando os grupos na planilha: ', grupo_sheet)\n",
        "    grupo_sheet.insert_row(headers, 1)\n",
        "    for j, participante in enumerate(participantes_grupo):\n",
        "        values = list(participante.values())\n",
        "        del values[-1]  # remove o valor do grupo da lista de valores\n",
        "        grupo_sheet.insert_row(values, j+2)\n",
        "\n",
        "padrao_sheet = resultado_sheet.worksheet('Página1')\n",
        "resultado_sheet.del_worksheet(padrao_sheet)"
      ],
      "metadata": {
        "id": "OxSgRrKGa8cq"
      },
      "execution_count": null,
      "outputs": []
    },
    {
      "cell_type": "code",
      "source": [
        "import DNS\n",
        "from validate_email import validate_email\n",
        "\n",
        "link_azul = \"https://chat.whatsapp.com/ER0BHwVZQjwLlsRwMSbpdH\"\n",
        "link_verde = \"https://chat.whatsapp.com/KqQfqr5kfVJ182BZL5LGPq\"\n",
        "link_vermelho = \"https://chat.whatsapp.com/K3ZuFWg506EEIEUNTTSwBw\"\n",
        "\n",
        "# Envio do e-mail para cada participante informando a qual equipe pertence\n",
        "for grupo, participantes in grupos.items():\n",
        "    for participante in participantes:\n",
        "        nome = participante[\"Nome\"]\n",
        "        email = participante[\"Email\"]\n",
        "        \n",
        "        if grupo == 'Azul':\n",
        "            link = link_azul\n",
        "        elif grupo == 'Verde':\n",
        "            link = link_verde\n",
        "        else:\n",
        "            link = link_vermelho\n",
        "\n",
        "        mensagem = f\"Olá {nome},\\n\\nVocê foi sorteado para o Grupo {grupo}.\\n\\nO link para o grupo da sua equipe é:\\n{link}\\n\\nAtenciosamente,\\nRede Plenus\"\n",
        "        \n",
        "        # Configuração da mensagem\n",
        "        msg = MIMEMultipart()\n",
        "        msg['From'] = 'ralfferreira995@gmail.com'\n",
        "        msg['To'] = email\n",
        "        msg['Subject'] = \"Resultado do sorteio da Gincana da Rede Plenus\"\n",
        "        msg.attach(MIMEText(mensagem, 'plain'))\n",
        "\n",
        "        is_valid = validate_email(\n",
        "            email\n",
        "        )\n",
        "        \n",
        "        if is_valid:\n",
        "            # Conexão com o servidor de e-mail e envio da mensagem\n",
        "            servidor_smtp = smtplib.SMTP('smtp.gmail.com', 587)\n",
        "            servidor_smtp.starttls()\n",
        "            servidor_smtp.login('ralfferreira995@gmail.com', 'dgbqzvwnobznhxsu')\n",
        "            print(f\"Enviando e-mail para: {email}\")\n",
        "            servidor_smtp.sendmail('ralfferreira995@gmail.com', email, msg.as_string().encode('utf-8'))\n",
        "            servidor_smtp.quit()\n",
        "        else:\n",
        "          print(f'E-mail inválido: {email}')"
      ],
      "metadata": {
        "id": "z670MUVxa9oD"
      },
      "execution_count": null,
      "outputs": []
    }
  ]
}