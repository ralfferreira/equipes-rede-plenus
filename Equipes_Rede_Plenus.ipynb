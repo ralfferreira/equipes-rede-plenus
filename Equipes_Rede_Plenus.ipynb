{
  "nbformat": 4,
  "nbformat_minor": 0,
  "metadata": {
    "colab": {
      "provenance": []
    },
    "kernelspec": {
      "name": "python3",
      "display_name": "Python 3"
    },
    "language_info": {
      "name": "python"
    }
  },
  "cells": [
    {
      "cell_type": "code",
      "execution_count": 1,
      "metadata": {
        "id": "w0wYxtWH7tCd"
      },
      "outputs": [],
      "source": [
        "import random\n",
        "import pandas as pd\n",
        "from google.colab import auth\n",
        "import gspread\n",
        "from google.auth import default"
      ]
    },
    {
      "cell_type": "code",
      "source": [
        "# Autenticação\n",
        "auth.authenticate_user()\n",
        "creds, _ = default()\n",
        "gc = gspread.authorize(creds)"
      ],
      "metadata": {
        "id": "Zz7hlIn17uVo"
      },
      "execution_count": 2,
      "outputs": []
    },
    {
      "cell_type": "code",
      "source": [
        "# Definindo a tabela\n",
        "worksheet = gc.open('Check-in Rede Plenus (respostas)').sheet1\n",
        "\n",
        "# get_all_values ​​fornece uma lista de linhas\n",
        "rows = worksheet.get_all_values()\n",
        "\n",
        "# Convertendo pra um DataFrame\n",
        "df = pd.DataFrame(rows)"
      ],
      "metadata": {
        "id": "wpldZhIf7_LJ"
      },
      "execution_count": 3,
      "outputs": []
    },
    {
      "cell_type": "code",
      "source": [
        "columns = df.iloc[0]\n",
        "df = pd.DataFrame(df.values[1:])"
      ],
      "metadata": {
        "id": "4KYjWQ-2FyvF"
      },
      "execution_count": 4,
      "outputs": []
    },
    {
      "cell_type": "code",
      "source": [
        "df"
      ],
      "metadata": {
        "colab": {
          "base_uri": "https://localhost:8080/",
          "height": 300
        },
        "id": "BaJ7iAlDCmPH",
        "outputId": "46de982a-e913-4f44-f299-dfad3b179811"
      },
      "execution_count": 5,
      "outputs": [
        {
          "output_type": "execute_result",
          "data": {
            "text/plain": [
              "                     0                               1               2\n",
              "0  13/02/2023 19:42:29                            Ralf     11968586747\n",
              "1  13/02/2023 19:46:39  Marcelo de Freitas Cavalcante      83996008751\n",
              "2  13/02/2023 19:47:53             Graziella Ferreira      83981031636\n",
              "3  13/02/2023 19:49:42                          Dayane     11944964050\n",
              "4  13/02/2023 19:54:49  Antonio Carlos da Silva Santos     83988099560\n",
              "5  13/02/2023 20:30:45       Anna Livia Freire Machado  (83)98134-2198\n",
              "6  13/02/2023 20:31:30                   Letícia Costa     83987951792\n",
              "7  13/02/2023 20:38:34                       Alexandre  11949473783883"
            ],
            "text/html": [
              "\n",
              "  <div id=\"df-c50c97a7-7a5e-4c31-bfb7-507e23db05ae\">\n",
              "    <div class=\"colab-df-container\">\n",
              "      <div>\n",
              "<style scoped>\n",
              "    .dataframe tbody tr th:only-of-type {\n",
              "        vertical-align: middle;\n",
              "    }\n",
              "\n",
              "    .dataframe tbody tr th {\n",
              "        vertical-align: top;\n",
              "    }\n",
              "\n",
              "    .dataframe thead th {\n",
              "        text-align: right;\n",
              "    }\n",
              "</style>\n",
              "<table border=\"1\" class=\"dataframe\">\n",
              "  <thead>\n",
              "    <tr style=\"text-align: right;\">\n",
              "      <th></th>\n",
              "      <th>0</th>\n",
              "      <th>1</th>\n",
              "      <th>2</th>\n",
              "    </tr>\n",
              "  </thead>\n",
              "  <tbody>\n",
              "    <tr>\n",
              "      <th>0</th>\n",
              "      <td>13/02/2023 19:42:29</td>\n",
              "      <td>Ralf</td>\n",
              "      <td>11968586747</td>\n",
              "    </tr>\n",
              "    <tr>\n",
              "      <th>1</th>\n",
              "      <td>13/02/2023 19:46:39</td>\n",
              "      <td>Marcelo de Freitas Cavalcante</td>\n",
              "      <td>83996008751</td>\n",
              "    </tr>\n",
              "    <tr>\n",
              "      <th>2</th>\n",
              "      <td>13/02/2023 19:47:53</td>\n",
              "      <td>Graziella Ferreira</td>\n",
              "      <td>83981031636</td>\n",
              "    </tr>\n",
              "    <tr>\n",
              "      <th>3</th>\n",
              "      <td>13/02/2023 19:49:42</td>\n",
              "      <td>Dayane</td>\n",
              "      <td>11944964050</td>\n",
              "    </tr>\n",
              "    <tr>\n",
              "      <th>4</th>\n",
              "      <td>13/02/2023 19:54:49</td>\n",
              "      <td>Antonio Carlos da Silva Santos</td>\n",
              "      <td>83988099560</td>\n",
              "    </tr>\n",
              "    <tr>\n",
              "      <th>5</th>\n",
              "      <td>13/02/2023 20:30:45</td>\n",
              "      <td>Anna Livia Freire Machado</td>\n",
              "      <td>(83)98134-2198</td>\n",
              "    </tr>\n",
              "    <tr>\n",
              "      <th>6</th>\n",
              "      <td>13/02/2023 20:31:30</td>\n",
              "      <td>Letícia Costa</td>\n",
              "      <td>83987951792</td>\n",
              "    </tr>\n",
              "    <tr>\n",
              "      <th>7</th>\n",
              "      <td>13/02/2023 20:38:34</td>\n",
              "      <td>Alexandre</td>\n",
              "      <td>11949473783883</td>\n",
              "    </tr>\n",
              "  </tbody>\n",
              "</table>\n",
              "</div>\n",
              "      <button class=\"colab-df-convert\" onclick=\"convertToInteractive('df-c50c97a7-7a5e-4c31-bfb7-507e23db05ae')\"\n",
              "              title=\"Convert this dataframe to an interactive table.\"\n",
              "              style=\"display:none;\">\n",
              "        \n",
              "  <svg xmlns=\"http://www.w3.org/2000/svg\" height=\"24px\"viewBox=\"0 0 24 24\"\n",
              "       width=\"24px\">\n",
              "    <path d=\"M0 0h24v24H0V0z\" fill=\"none\"/>\n",
              "    <path d=\"M18.56 5.44l.94 2.06.94-2.06 2.06-.94-2.06-.94-.94-2.06-.94 2.06-2.06.94zm-11 1L8.5 8.5l.94-2.06 2.06-.94-2.06-.94L8.5 2.5l-.94 2.06-2.06.94zm10 10l.94 2.06.94-2.06 2.06-.94-2.06-.94-.94-2.06-.94 2.06-2.06.94z\"/><path d=\"M17.41 7.96l-1.37-1.37c-.4-.4-.92-.59-1.43-.59-.52 0-1.04.2-1.43.59L10.3 9.45l-7.72 7.72c-.78.78-.78 2.05 0 2.83L4 21.41c.39.39.9.59 1.41.59.51 0 1.02-.2 1.41-.59l7.78-7.78 2.81-2.81c.8-.78.8-2.07 0-2.86zM5.41 20L4 18.59l7.72-7.72 1.47 1.35L5.41 20z\"/>\n",
              "  </svg>\n",
              "      </button>\n",
              "      \n",
              "  <style>\n",
              "    .colab-df-container {\n",
              "      display:flex;\n",
              "      flex-wrap:wrap;\n",
              "      gap: 12px;\n",
              "    }\n",
              "\n",
              "    .colab-df-convert {\n",
              "      background-color: #E8F0FE;\n",
              "      border: none;\n",
              "      border-radius: 50%;\n",
              "      cursor: pointer;\n",
              "      display: none;\n",
              "      fill: #1967D2;\n",
              "      height: 32px;\n",
              "      padding: 0 0 0 0;\n",
              "      width: 32px;\n",
              "    }\n",
              "\n",
              "    .colab-df-convert:hover {\n",
              "      background-color: #E2EBFA;\n",
              "      box-shadow: 0px 1px 2px rgba(60, 64, 67, 0.3), 0px 1px 3px 1px rgba(60, 64, 67, 0.15);\n",
              "      fill: #174EA6;\n",
              "    }\n",
              "\n",
              "    [theme=dark] .colab-df-convert {\n",
              "      background-color: #3B4455;\n",
              "      fill: #D2E3FC;\n",
              "    }\n",
              "\n",
              "    [theme=dark] .colab-df-convert:hover {\n",
              "      background-color: #434B5C;\n",
              "      box-shadow: 0px 1px 3px 1px rgba(0, 0, 0, 0.15);\n",
              "      filter: drop-shadow(0px 1px 2px rgba(0, 0, 0, 0.3));\n",
              "      fill: #FFFFFF;\n",
              "    }\n",
              "  </style>\n",
              "\n",
              "      <script>\n",
              "        const buttonEl =\n",
              "          document.querySelector('#df-c50c97a7-7a5e-4c31-bfb7-507e23db05ae button.colab-df-convert');\n",
              "        buttonEl.style.display =\n",
              "          google.colab.kernel.accessAllowed ? 'block' : 'none';\n",
              "\n",
              "        async function convertToInteractive(key) {\n",
              "          const element = document.querySelector('#df-c50c97a7-7a5e-4c31-bfb7-507e23db05ae');\n",
              "          const dataTable =\n",
              "            await google.colab.kernel.invokeFunction('convertToInteractive',\n",
              "                                                     [key], {});\n",
              "          if (!dataTable) return;\n",
              "\n",
              "          const docLinkHtml = 'Like what you see? Visit the ' +\n",
              "            '<a target=\"_blank\" href=https://colab.research.google.com/notebooks/data_table.ipynb>data table notebook</a>'\n",
              "            + ' to learn more about interactive tables.';\n",
              "          element.innerHTML = '';\n",
              "          dataTable['output_type'] = 'display_data';\n",
              "          await google.colab.output.renderOutput(dataTable, element);\n",
              "          const docLink = document.createElement('div');\n",
              "          docLink.innerHTML = docLinkHtml;\n",
              "          element.appendChild(docLink);\n",
              "        }\n",
              "      </script>\n",
              "    </div>\n",
              "  </div>\n",
              "  "
            ]
          },
          "metadata": {},
          "execution_count": 5
        }
      ]
    },
    {
      "cell_type": "code",
      "source": [
        "def make_random_groups(df, number_of_groups):\n",
        "    \n",
        "    # Misturando os dados\n",
        "    random.shuffle(df[1])\n",
        "    \n",
        "    # Criando os grupos\n",
        "    all_groups = []\n",
        "    for index in range(number_of_groups):\n",
        "        group = df[1][index::number_of_groups]\n",
        "        all_groups.append(group)\n",
        "    \n",
        "    # Formatando e exibindo os grupos\n",
        "    for index, group in enumerate(all_groups):\n",
        "        print(f\"✝ Grupo {index+1}: {' / '.join(group)}\\n\")"
      ],
      "metadata": {
        "id": "ZRhgo5ST871N"
      },
      "execution_count": 6,
      "outputs": []
    },
    {
      "cell_type": "code",
      "source": [
        "make_random_groups(df, 3)"
      ],
      "metadata": {
        "colab": {
          "base_uri": "https://localhost:8080/"
        },
        "id": "iFOUPadP9BKl",
        "outputId": "20a08daa-3b0a-4ff1-e3ff-12e861466b82"
      },
      "execution_count": 7,
      "outputs": [
        {
          "output_type": "stream",
          "name": "stdout",
          "text": [
            "✝ Grupo 1: Anna Livia Freire Machado / Letícia Costa / Marcelo de Freitas Cavalcante \n",
            "\n",
            "✝ Grupo 2: Dayane / Antonio Carlos da Silva Santos / Ralf\n",
            "\n",
            "✝ Grupo 3: Alexandre / Graziella Ferreira \n",
            "\n"
          ]
        }
      ]
    }
  ]
}